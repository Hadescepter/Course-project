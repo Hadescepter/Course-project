{
 "cells": [
  {
   "cell_type": "code",
   "execution_count": 95,
   "id": "96ad7a2b",
   "metadata": {},
   "outputs": [],
   "source": [
    "import pandas as pd\n",
    "import numpy as np\n",
    "import re\n",
    "from datasets import load_dataset, Dataset\n",
    "from tqdm import tqdm\n",
    "import json"
   ]
  },
  {
   "cell_type": "code",
   "execution_count": 96,
   "id": "bc86dab7",
   "metadata": {},
   "outputs": [],
   "source": [
    "ds = load_dataset(\"koen430/relevant_selected_stock_news\")"
   ]
  },
  {
   "cell_type": "markdown",
   "id": "3b8e23b3",
   "metadata": {},
   "source": [
    "## data chunking"
   ]
  },
  {
   "cell_type": "code",
   "execution_count": 97,
   "id": "2dfee450",
   "metadata": {},
   "outputs": [],
   "source": [
    "train = ds[\"train\"]\n",
    "val= ds[\"val\"]\n",
    "test=ds[\"test\"]"
   ]
  },
  {
   "cell_type": "code",
   "execution_count": 98,
   "id": "57f8191a",
   "metadata": {},
   "outputs": [],
   "source": [
    "#Sentence Splitting & Chunking\n",
    "def split_sentences(text: str):\n",
    "    if not text:\n",
    "        return []\n",
    "    sents = re.split(r'(?<=[。！？.!?])\\s*', text)\n",
    "    return [s.strip() for s in sents if s.strip()]\n",
    "\n",
    "def slice_into_chunks(text: str, n_sent: int = 4):\n",
    "    sents = split_sentences(text)\n",
    "    if not sents:\n",
    "        return [text]\n",
    "    chunks = []\n",
    "    for i in range(0, len(sents), n_sent):\n",
    "        chunks.append(\" \".join(sents[i:i+n_sent]))\n",
    "    return chunks\n",
    "\n",
    "# Expand rows(with sliced text and original features)\n",
    "def data_chunking(data: Dataset):\n",
    "    new_rows = []\n",
    "    col_order = [\n",
    "    \"ticker\", \"prompt\", \"text\", \"url\", \"result_1\", \"result_1_bin\",\n",
    "    \"relevance\", \"token_count\", \"__index_level_0__\", \"slice_id\"\n",
    "    ]\n",
    "\n",
    "    for row in tqdm(data):\n",
    "        chunks = slice_into_chunks(row[\"text\"], n_sent=4)\n",
    "        for j, ch in enumerate(chunks):\n",
    "            new_row = dict(row)        \n",
    "            new_row[\"text\"] = ch      \n",
    "            new_row[\"slice_id\"] = j    \n",
    "            new_rows.append(new_row)\n",
    "\n",
    "    # None check of features\n",
    "    new_rows = [{c: r.get(c, None) for c in col_order} for r in new_rows]\n",
    "\n",
    "    # constrcut new Dataset\n",
    "    sliced_ds = Dataset.from_list(new_rows)\n",
    "    return sliced_ds\n"
   ]
  },
  {
   "cell_type": "code",
   "execution_count": 99,
   "id": "ef2101f2",
   "metadata": {},
   "outputs": [
    {
     "name": "stderr",
     "output_type": "stream",
     "text": [
      "100%|██████████| 3600/3600 [00:00<00:00, 4998.33it/s]\n",
      "100%|██████████| 200/200 [00:00<00:00, 3697.46it/s]\n",
      "100%|██████████| 200/200 [00:00<00:00, 3980.17it/s]\n"
     ]
    }
   ],
   "source": [
    "train_1=data_chunking(train)\n",
    "val_1=data_chunking(val)\n",
    "test_1=data_chunking(test)"
   ]
  },
  {
   "cell_type": "markdown",
   "id": "b54cf796",
   "metadata": {},
   "source": [
    "## Transform Dataset to Json for STF"
   ]
  },
  {
   "cell_type": "code",
   "execution_count": 100,
   "id": "818a0eb8",
   "metadata": {},
   "outputs": [],
   "source": [
    "def coerce_text(x: str):\n",
    "    \"\"\"Convert any value to string safely.\"\"\"\n",
    "    if x is None:\n",
    "        return \"\"\n",
    "    if isinstance(x, str):\n",
    "        return x.strip()\n",
    "    try:\n",
    "        if isinstance(x, float) and x.is_integer():\n",
    "            return str(int(x))\n",
    "        return str(x)\n",
    "    except Exception:\n",
    "        return \"\""
   ]
  },
  {
   "cell_type": "code",
   "execution_count": 101,
   "id": "0aa8d0cb",
   "metadata": {},
   "outputs": [],
   "source": [
    "def build_json(row: dict):\n",
    "    ticker = row.get(\"ticker\", \"UNKNOWN\")\n",
    "    text = row.get(\"text\", \"\")\n",
    "    result_1 = row.get(\"result_1\", \"uncertain\")\n",
    "\n",
    "    messages = [\n",
    "        {\"role\": \"system\", \"content\": \"You are an experienced investment manager.\"},\n",
    "        {\"role\": \"user\", \"content\": f\"Can you give me some advice on the stock {ticker}?\"},\n",
    "        {\"role\": \"assistant\", \"content\": \"Sure. Could you please provide me with some specific information about this stock?\"},\n",
    "        {\"role\": \"user\", \"content\": text},\n",
    "        {\"role\": \"assistant\", \"content\": f\"This stock is expected to be {result_1} tomorrow.\"}\n",
    "    ]\n",
    "\n",
    "    return {\"messages\": messages}"
   ]
  },
  {
   "cell_type": "code",
   "execution_count": 102,
   "id": "cd4a424b",
   "metadata": {},
   "outputs": [],
   "source": [
    "def build_json(data: Dataset):\n",
    "    n=len(data)\n",
    "    with open(OUTPUT_JSONL, \"w\", encoding=\"utf-8\") as fw:\n",
    "        for row in tqdm(data, total=n, desc=\"Building ChatML JSONL\", unit=\"row\"):\n",
    "            ticker = coerce_text(row.get(\"ticker\", \"\"))\n",
    "            text = coerce_text(row.get(\"text\", \"\"))\n",
    "            result_1 = coerce_text(row.get(\"result_1\", \"\"))\n",
    "\n",
    "            if not ticker:\n",
    "                ticker = \"unknown\"\n",
    "            if not result_1:\n",
    "                result_1 = \"uncertain\"\n",
    "\n",
    "            messages = build_messages(ticker, text, result_1)\n",
    "            fw.write(json.dumps({\"messages\": messages}, ensure_ascii=False) + \"\\n\")"
   ]
  },
  {
   "cell_type": "code",
   "execution_count": 103,
   "id": "545ff78e",
   "metadata": {},
   "outputs": [
    {
     "name": "stderr",
     "output_type": "stream",
     "text": [
      "Building ChatML JSONL: 100%|██████████| 37166/37166 [00:05<00:00, 6469.36row/s]\n"
     ]
    }
   ],
   "source": [
    "OUTPUT_JSONL = \"./stf/qwen_sft_train.jsonl\" \n",
    "MAX_TEXT_CHARS = None \n",
    "build_json(train_1)"
   ]
  },
  {
   "cell_type": "code",
   "execution_count": 104,
   "id": "31baec55",
   "metadata": {},
   "outputs": [
    {
     "name": "stderr",
     "output_type": "stream",
     "text": [
      "Building ChatML JSONL: 100%|██████████| 2165/2165 [00:00<00:00, 6572.38row/s]\n"
     ]
    }
   ],
   "source": [
    "OUTPUT_JSONL = \"./stf/qwen_sft_val.jsonl\" \n",
    "build_json(val_1)"
   ]
  },
  {
   "cell_type": "code",
   "execution_count": 105,
   "id": "e0b290e8",
   "metadata": {},
   "outputs": [
    {
     "name": "stderr",
     "output_type": "stream",
     "text": [
      "Building ChatML JSONL: 100%|██████████| 2004/2004 [00:00<00:00, 5849.92row/s]\n"
     ]
    }
   ],
   "source": [
    "OUTPUT_JSONL = \"./stf/qwen_sft_test.jsonl\" \n",
    "build_json(test_1)"
   ]
  }
 ],
 "metadata": {
  "kernelspec": {
   "display_name": "torch_gpu",
   "language": "python",
   "name": "python3"
  },
  "language_info": {
   "codemirror_mode": {
    "name": "ipython",
    "version": 3
   },
   "file_extension": ".py",
   "mimetype": "text/x-python",
   "name": "python",
   "nbconvert_exporter": "python",
   "pygments_lexer": "ipython3",
   "version": "3.10.18"
  }
 },
 "nbformat": 4,
 "nbformat_minor": 5
}
